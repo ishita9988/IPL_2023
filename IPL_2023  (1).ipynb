{
 "cells": [
  {
   "cell_type": "markdown",
   "id": "c19bc41f",
   "metadata": {},
   "source": [
    "## EDA ON IPL 2023 DATASET"
   ]
  },
  {
   "cell_type": "markdown",
   "id": "3dc337ba",
   "metadata": {},
   "source": [
    "### Importing important files"
   ]
  },
  {
   "cell_type": "code",
   "execution_count": 1,
   "id": "77d45a53",
   "metadata": {},
   "outputs": [],
   "source": [
    "import pandas as pd\n",
    "import numpy as np\n",
    "from matplotlib import pyplot as plt\n",
    "import seaborn as sns\n",
    "%matplotlib inline"
   ]
  },
  {
   "cell_type": "markdown",
   "id": "68c80f18",
   "metadata": {},
   "source": [
    "###  Data Preparation"
   ]
  },
  {
   "cell_type": "code",
   "execution_count": 2,
   "id": "f318908d",
   "metadata": {},
   "outputs": [],
   "source": [
    "data=pd.read_csv(\"C:\\\\Users\\\\ishit\\\\Downloads\\\\archive (11)\\\\each_match_records.csv\")"
   ]
  },
  {
   "cell_type": "code",
   "execution_count": 3,
   "id": "9dab4f8d",
   "metadata": {},
   "outputs": [
    {
     "data": {
      "text/html": [
       "<div>\n",
       "<style scoped>\n",
       "    .dataframe tbody tr th:only-of-type {\n",
       "        vertical-align: middle;\n",
       "    }\n",
       "\n",
       "    .dataframe tbody tr th {\n",
       "        vertical-align: top;\n",
       "    }\n",
       "\n",
       "    .dataframe thead th {\n",
       "        text-align: right;\n",
       "    }\n",
       "</style>\n",
       "<table border=\"1\" class=\"dataframe\">\n",
       "  <thead>\n",
       "    <tr style=\"text-align: right;\">\n",
       "      <th></th>\n",
       "      <th>season</th>\n",
       "      <th>date</th>\n",
       "      <th>match_number</th>\n",
       "      <th>match_type</th>\n",
       "      <th>venue</th>\n",
       "      <th>location</th>\n",
       "      <th>team1</th>\n",
       "      <th>team2</th>\n",
       "      <th>toss_won</th>\n",
       "      <th>toss_decision</th>\n",
       "      <th>umpire1</th>\n",
       "      <th>umpire2</th>\n",
       "      <th>reserve_umpire</th>\n",
       "      <th>match_referee</th>\n",
       "      <th>winner</th>\n",
       "      <th>winner_runs</th>\n",
       "      <th>winner_wickets</th>\n",
       "      <th>man_of_match</th>\n",
       "    </tr>\n",
       "  </thead>\n",
       "  <tbody>\n",
       "    <tr>\n",
       "      <th>0</th>\n",
       "      <td>2023</td>\n",
       "      <td>31-03-2023</td>\n",
       "      <td>1</td>\n",
       "      <td>Group</td>\n",
       "      <td>Narendra Modi Stadium</td>\n",
       "      <td>Ahmedabad</td>\n",
       "      <td>Chennai Super Kings</td>\n",
       "      <td>Gujarat Titans</td>\n",
       "      <td>Gujarat Titans</td>\n",
       "      <td>field</td>\n",
       "      <td>Nitin Menon</td>\n",
       "      <td>HAS Khalid</td>\n",
       "      <td>A Bengeri</td>\n",
       "      <td>J Srinath</td>\n",
       "      <td>Gujarat Titans</td>\n",
       "      <td>NaN</td>\n",
       "      <td>5.0</td>\n",
       "      <td>Rashid Khan</td>\n",
       "    </tr>\n",
       "    <tr>\n",
       "      <th>1</th>\n",
       "      <td>2023</td>\n",
       "      <td>01-04-2023</td>\n",
       "      <td>2</td>\n",
       "      <td>Group</td>\n",
       "      <td>Punjab Cricket Association IS Bindra Stadium</td>\n",
       "      <td>Chandigarh</td>\n",
       "      <td>Punjab Kings</td>\n",
       "      <td>Kolkata Knight Riders</td>\n",
       "      <td>Kolkata Knight Riders</td>\n",
       "      <td>field</td>\n",
       "      <td>BNJ Oxenford</td>\n",
       "      <td>YC Barde</td>\n",
       "      <td>PM Joshi</td>\n",
       "      <td>M Nayyar</td>\n",
       "      <td>Punjab Kings</td>\n",
       "      <td>7.0</td>\n",
       "      <td>NaN</td>\n",
       "      <td>Arshdeep Singh</td>\n",
       "    </tr>\n",
       "    <tr>\n",
       "      <th>2</th>\n",
       "      <td>2023</td>\n",
       "      <td>01-04-2023</td>\n",
       "      <td>3</td>\n",
       "      <td>Group</td>\n",
       "      <td>Bharat Ratna Shri Atal Bihari Vajpayee Ekana C...</td>\n",
       "      <td>Lucknow</td>\n",
       "      <td>Lucknow Super Giants</td>\n",
       "      <td>Delhi Capitals</td>\n",
       "      <td>Delhi Capitals</td>\n",
       "      <td>field</td>\n",
       "      <td>AK Chaudhary</td>\n",
       "      <td>NA Patwardhan</td>\n",
       "      <td>M Kuppuraj</td>\n",
       "      <td>DS Manohar</td>\n",
       "      <td>Lucknow Super Giants</td>\n",
       "      <td>50.0</td>\n",
       "      <td>NaN</td>\n",
       "      <td>MA Wood</td>\n",
       "    </tr>\n",
       "    <tr>\n",
       "      <th>3</th>\n",
       "      <td>2023</td>\n",
       "      <td>02-04-2023</td>\n",
       "      <td>4</td>\n",
       "      <td>Group</td>\n",
       "      <td>Rajiv Gandhi International Stadium</td>\n",
       "      <td>Hyderabad</td>\n",
       "      <td>Rajasthan Royals</td>\n",
       "      <td>Sunrisers Hyderabad</td>\n",
       "      <td>Sunrisers Hyderabad</td>\n",
       "      <td>field</td>\n",
       "      <td>KN Ananthapadmanabhan</td>\n",
       "      <td>R Pandit</td>\n",
       "      <td>Abhijit Bhattacharya</td>\n",
       "      <td>V Narayan Kutty</td>\n",
       "      <td>Rajasthan Royals</td>\n",
       "      <td>72.0</td>\n",
       "      <td>NaN</td>\n",
       "      <td>JC Buttler</td>\n",
       "    </tr>\n",
       "    <tr>\n",
       "      <th>4</th>\n",
       "      <td>2023</td>\n",
       "      <td>02-04-2023</td>\n",
       "      <td>5</td>\n",
       "      <td>Group</td>\n",
       "      <td>M Chinnaswamy Stadium</td>\n",
       "      <td>Bengaluru</td>\n",
       "      <td>Mumbai Indians</td>\n",
       "      <td>Royal Challengers Bangalore</td>\n",
       "      <td>Royal Challengers Bangalore</td>\n",
       "      <td>field</td>\n",
       "      <td>Nitin Menon</td>\n",
       "      <td>Tapan Sharma</td>\n",
       "      <td>A Bengeri</td>\n",
       "      <td>J Srinath</td>\n",
       "      <td>Royal Challengers Bangalore</td>\n",
       "      <td>NaN</td>\n",
       "      <td>8.0</td>\n",
       "      <td>F du Plessis</td>\n",
       "    </tr>\n",
       "  </tbody>\n",
       "</table>\n",
       "</div>"
      ],
      "text/plain": [
       "   season        date  match_number match_type  \\\n",
       "0    2023  31-03-2023             1      Group   \n",
       "1    2023  01-04-2023             2      Group   \n",
       "2    2023  01-04-2023             3      Group   \n",
       "3    2023  02-04-2023             4      Group   \n",
       "4    2023  02-04-2023             5      Group   \n",
       "\n",
       "                                               venue    location  \\\n",
       "0                              Narendra Modi Stadium   Ahmedabad   \n",
       "1       Punjab Cricket Association IS Bindra Stadium  Chandigarh   \n",
       "2  Bharat Ratna Shri Atal Bihari Vajpayee Ekana C...     Lucknow   \n",
       "3                 Rajiv Gandhi International Stadium   Hyderabad   \n",
       "4                              M Chinnaswamy Stadium   Bengaluru   \n",
       "\n",
       "                  team1                        team2  \\\n",
       "0   Chennai Super Kings               Gujarat Titans   \n",
       "1          Punjab Kings        Kolkata Knight Riders   \n",
       "2  Lucknow Super Giants               Delhi Capitals   \n",
       "3      Rajasthan Royals          Sunrisers Hyderabad   \n",
       "4        Mumbai Indians  Royal Challengers Bangalore   \n",
       "\n",
       "                      toss_won toss_decision                umpire1  \\\n",
       "0               Gujarat Titans         field            Nitin Menon   \n",
       "1        Kolkata Knight Riders         field           BNJ Oxenford   \n",
       "2               Delhi Capitals         field           AK Chaudhary   \n",
       "3          Sunrisers Hyderabad         field  KN Ananthapadmanabhan   \n",
       "4  Royal Challengers Bangalore         field            Nitin Menon   \n",
       "\n",
       "         umpire2        reserve_umpire    match_referee  \\\n",
       "0     HAS Khalid             A Bengeri        J Srinath   \n",
       "1       YC Barde              PM Joshi         M Nayyar   \n",
       "2  NA Patwardhan            M Kuppuraj       DS Manohar   \n",
       "3       R Pandit  Abhijit Bhattacharya  V Narayan Kutty   \n",
       "4   Tapan Sharma             A Bengeri        J Srinath   \n",
       "\n",
       "                        winner  winner_runs  winner_wickets    man_of_match  \n",
       "0               Gujarat Titans          NaN             5.0     Rashid Khan  \n",
       "1                 Punjab Kings          7.0             NaN  Arshdeep Singh  \n",
       "2         Lucknow Super Giants         50.0             NaN         MA Wood  \n",
       "3             Rajasthan Royals         72.0             NaN      JC Buttler  \n",
       "4  Royal Challengers Bangalore          NaN             8.0    F du Plessis  "
      ]
     },
     "execution_count": 3,
     "metadata": {},
     "output_type": "execute_result"
    }
   ],
   "source": [
    "data.head(5)"
   ]
  },
  {
   "cell_type": "code",
   "execution_count": 4,
   "id": "ef2f3858",
   "metadata": {},
   "outputs": [
    {
     "name": "stdout",
     "output_type": "stream",
     "text": [
      "<class 'pandas.core.frame.DataFrame'>\n",
      "RangeIndex: 74 entries, 0 to 73\n",
      "Data columns (total 18 columns):\n",
      " #   Column          Non-Null Count  Dtype  \n",
      "---  ------          --------------  -----  \n",
      " 0   season          74 non-null     int64  \n",
      " 1   date            74 non-null     object \n",
      " 2   match_number    74 non-null     int64  \n",
      " 3   match_type      74 non-null     object \n",
      " 4   venue           74 non-null     object \n",
      " 5   location        74 non-null     object \n",
      " 6   team1           74 non-null     object \n",
      " 7   team2           74 non-null     object \n",
      " 8   toss_won        74 non-null     object \n",
      " 9   toss_decision   74 non-null     object \n",
      " 10  umpire1         74 non-null     object \n",
      " 11  umpire2         74 non-null     object \n",
      " 12  reserve_umpire  74 non-null     object \n",
      " 13  match_referee   74 non-null     object \n",
      " 14  winner          74 non-null     object \n",
      " 15  winner_runs     40 non-null     float64\n",
      " 16  winner_wickets  33 non-null     float64\n",
      " 17  man_of_match    73 non-null     object \n",
      "dtypes: float64(2), int64(2), object(14)\n",
      "memory usage: 10.5+ KB\n"
     ]
    }
   ],
   "source": [
    "data.info()"
   ]
  },
  {
   "cell_type": "code",
   "execution_count": 5,
   "id": "c5ec7717",
   "metadata": {},
   "outputs": [
    {
     "data": {
      "text/plain": [
       "Index(['season', 'date', 'match_number', 'match_type', 'venue', 'location',\n",
       "       'team1', 'team2', 'toss_won', 'toss_decision', 'umpire1', 'umpire2',\n",
       "       'reserve_umpire', 'match_referee', 'winner', 'winner_runs',\n",
       "       'winner_wickets', 'man_of_match'],\n",
       "      dtype='object')"
      ]
     },
     "execution_count": 5,
     "metadata": {},
     "output_type": "execute_result"
    }
   ],
   "source": [
    "data.columns"
   ]
  },
  {
   "cell_type": "code",
   "execution_count": 6,
   "id": "f2376ef0",
   "metadata": {},
   "outputs": [
    {
     "data": {
      "text/plain": [
       "(74, 18)"
      ]
     },
     "execution_count": 6,
     "metadata": {},
     "output_type": "execute_result"
    }
   ],
   "source": [
    "data.shape"
   ]
  },
  {
   "cell_type": "code",
   "execution_count": 7,
   "id": "0199e774",
   "metadata": {},
   "outputs": [
    {
     "data": {
      "text/plain": [
       "season             0\n",
       "date               0\n",
       "match_number       0\n",
       "match_type         0\n",
       "venue              0\n",
       "location           0\n",
       "team1              0\n",
       "team2              0\n",
       "toss_won           0\n",
       "toss_decision      0\n",
       "umpire1            0\n",
       "umpire2            0\n",
       "reserve_umpire     0\n",
       "match_referee      0\n",
       "winner             0\n",
       "winner_runs       34\n",
       "winner_wickets    41\n",
       "man_of_match       1\n",
       "dtype: int64"
      ]
     },
     "execution_count": 7,
     "metadata": {},
     "output_type": "execute_result"
    }
   ],
   "source": [
    "data.isnull().sum()"
   ]
  },
  {
   "cell_type": "markdown",
   "id": "2202eb91",
   "metadata": {},
   "source": [
    "### EDA and Data Visualization"
   ]
  },
  {
   "cell_type": "markdown",
   "id": "23835f04",
   "metadata": {},
   "source": [
    "#### No of wins per team"
   ]
  },
  {
   "cell_type": "code",
   "execution_count": 8,
   "id": "744e765c",
   "metadata": {},
   "outputs": [
    {
     "data": {
      "text/plain": [
       "Gujarat Titans                 11\n",
       "Chennai Super Kings            10\n",
       "Mumbai Indians                  9\n",
       "Lucknow Super Giants            8\n",
       "Rajasthan Royals                7\n",
       "Royal Challengers Bangalore     7\n",
       "Punjab Kings                    6\n",
       "Kolkata Knight Riders           6\n",
       "Delhi Capitals                  5\n",
       "Sunrisers Hyderabad             4\n",
       "No Result                       1\n",
       "Name: winner, dtype: int64"
      ]
     },
     "execution_count": 8,
     "metadata": {},
     "output_type": "execute_result"
    }
   ],
   "source": [
    "data.winner.value_counts()"
   ]
  },
  {
   "cell_type": "code",
   "execution_count": 9,
   "id": "346b9011",
   "metadata": {},
   "outputs": [
    {
     "data": {
      "image/png": "[encoded data removed]",
      "text/plain": [
       "<Figure size 864x576 with 1 Axes>"
      ]
     },
     "metadata": {
      "needs_background": "light"
     },
     "output_type": "display_data"
    }
   ],
   "source": [
    "# Plot the graph of number of wins per team\n",
    "plt.figure(figsize=(12,8))\n",
    "sns.countplot(y=\"winner\", data=data, order = data.winner.value_counts().index)\n",
    "plt.title(\"Number of wins per team\")\n",
    "plt.show()"
   ]
  },
  {
   "cell_type": "markdown",
   "id": "cd8235ca",
   "metadata": {},
   "source": [
    "Gujarat titans has won the maximum number of matches. Sunrisers Hyderabad has won the least number of matches."
   ]
  },
  {
   "cell_type": "markdown",
   "id": "fef4ebf4",
   "metadata": {},
   "source": [
    "#### The frequency of most man of the match"
   ]
  },
  {
   "cell_type": "code",
   "execution_count": 10,
   "id": "d678b862",
   "metadata": {},
   "outputs": [
    {
     "data": {
      "text/plain": [
       "Shubman Gill       4\n",
       "YBK Jaiswal        4\n",
       "MP Stoinis         3\n",
       "DP Conway          3\n",
       "RA Jadeja          3\n",
       "N Pooran           2\n",
       "RD Gaikwad         2\n",
       "SA Yadav           2\n",
       "CV Varun           2\n",
       "C Green            2\n",
       "V Kohli            2\n",
       "MM Sharma          2\n",
       "Rashid Khan        2\n",
       "F du Plessis       2\n",
       "RK Singh           2\n",
       "S Dhawan           1\n",
       "GD Phillips        1\n",
       "J Little           1\n",
       "MR Marsh           1\n",
       "Mohammed Shami     1\n",
       "Ishan Kishan       1\n",
       "M Pathirana        1\n",
       "PD Salt            1\n",
       "AD Russell         1\n",
       "JC Buttler         1\n",
       "PN Mankad          1\n",
       "P Simran Singh     1\n",
       "WD Parnell         1\n",
       "RR Rossouw         1\n",
       "D Padikkal         1\n",
       "MA Wood            1\n",
       "MM Ali             1\n",
       "A Manohar          1\n",
       "AR Patel           1\n",
       "AM Rahane          1\n",
       "RG Sharma          1\n",
       "R Ashwin           1\n",
       "KH Pandya          1\n",
       "HC Brook           1\n",
       "SN Thakur          1\n",
       "Sikandar Raza      1\n",
       "VR Iyer            1\n",
       "SO Hetmyer         1\n",
       "NT Ellis           1\n",
       "B Sai Sudharsan    1\n",
       "Arshdeep Singh     1\n",
       "Mohammed Siraj     1\n",
       "I Sharma           1\n",
       "SM Curran          1\n",
       "GJ Maxwell         1\n",
       "Akash Madhwal      1\n",
       "Name: man_of_match, dtype: int64"
      ]
     },
     "execution_count": 10,
     "metadata": {},
     "output_type": "execute_result"
    }
   ],
   "source": [
    "data.man_of_match.value_counts()"
   ]
  },
  {
   "cell_type": "code",
   "execution_count": 11,
   "id": "4a662595",
   "metadata": {},
   "outputs": [
    {
     "data": {
      "image/png": "[encoded data removed]",
      "text/plain": [
       "<Figure size 864x360 with 1 Axes>"
      ]
     },
     "metadata": {
      "needs_background": "light"
     },
     "output_type": "display_data"
    }
   ],
   "source": [
    "# Visualization of top 5 players with most man of the match title\n",
    "plt.figure(figsize=(12,5))\n",
    "sns.countplot(y=\"man_of_match\", data=data, order =data.man_of_match.value_counts()[:5].index)\n",
    "plt.title(\"Top 5 players with most man of the match title\" )\n",
    "plt.show()"
   ]
  },
  {
   "cell_type": "markdown",
   "id": "988d405d",
   "metadata": {},
   "source": [
    "Shubhman gill and yashasvi jaiswal has won the maximum no of man of the match title"
   ]
  },
  {
   "cell_type": "markdown",
   "id": "9b1c71e4",
   "metadata": {},
   "source": [
    "#### Toss won per team"
   ]
  },
  {
   "cell_type": "code",
   "execution_count": 12,
   "id": "973d7ee5",
   "metadata": {},
   "outputs": [
    {
     "data": {
      "text/plain": [
       "Rajasthan Royals               10\n",
       "Chennai Super Kings            10\n",
       "Mumbai Indians                 10\n",
       "Gujarat Titans                  9\n",
       "Royal Challengers Bangalore     8\n",
       "Delhi Capitals                  7\n",
       "Sunrisers Hyderabad             7\n",
       "Kolkata Knight Riders           5\n",
       "Punjab Kings                    5\n",
       "Lucknow Super Giants            3\n",
       "Name: toss_won, dtype: int64"
      ]
     },
     "execution_count": 12,
     "metadata": {},
     "output_type": "execute_result"
    }
   ],
   "source": [
    "data.toss_won.value_counts()"
   ]
  },
  {
   "cell_type": "code",
   "execution_count": 13,
   "id": "e080f2f3",
   "metadata": {},
   "outputs": [
    {
     "data": {
      "image/png": "[encoded data removed]",
      "text/plain": [
       "<Figure size 864x360 with 1 Axes>"
      ]
     },
     "metadata": {
      "needs_background": "light"
     },
     "output_type": "display_data"
    }
   ],
   "source": [
    "# Visualization of top 5 team with most toss win\n",
    "plt.figure(figsize=(12,5))\n",
    "sns.countplot(y=\"toss_won\", data=data, order=data.toss_won.value_counts()[:5].index)\n",
    "plt.title(\"Toss win per top 5 team\" )\n",
    "plt.show()"
   ]
  },
  {
   "cell_type": "markdown",
   "id": "051d89e7",
   "metadata": {},
   "source": [
    "#### Toss decision by team"
   ]
  },
  {
   "cell_type": "code",
   "execution_count": 14,
   "id": "a83aa1e3",
   "metadata": {},
   "outputs": [
    {
     "data": {
      "text/plain": [
       "field    53\n",
       "bat      21\n",
       "Name: toss_decision, dtype: int64"
      ]
     },
     "execution_count": 14,
     "metadata": {},
     "output_type": "execute_result"
    }
   ],
   "source": [
    "data.toss_decision.value_counts()"
   ]
  },
  {
   "cell_type": "code",
   "execution_count": 15,
   "id": "17b85eed",
   "metadata": {},
   "outputs": [
    {
     "data": {
      "image/png": "[encoded data removed]",
      "text/plain": [
       "<Figure size 432x288 with 1 Axes>"
      ]
     },
     "metadata": {},
     "output_type": "display_data"
    }
   ],
   "source": [
    "plt.pie(list(data.toss_decision.value_counts()),labels=list(data.toss_decision.value_counts().keys()),autopct=\"%1.1f%%\")\n",
    "plt.title('toss decision percentage')\n",
    "plt.show()"
   ]
  },
  {
   "cell_type": "markdown",
   "id": "00e78d31",
   "metadata": {},
   "source": [
    "Most of the teams(72%) choose fielding first after winning the toss"
   ]
  },
  {
   "cell_type": "markdown",
   "id": "697421fc",
   "metadata": {},
   "source": [
    "#### Win percentage of batting second"
   ]
  },
  {
   "cell_type": "code",
   "execution_count": 16,
   "id": "f1b59dca",
   "metadata": {},
   "outputs": [
    {
     "data": {
      "image/png": "[encoded data removed]",
      "text/plain": [
       "<Figure size 432x288 with 1 Axes>"
      ]
     },
     "metadata": {},
     "output_type": "display_data"
    }
   ],
   "source": [
    "# Plot the win percentage of teams batting second\n",
    "no_of_wins=(data.winner_runs.notnull()).sum()\n",
    "no_of_loss=(data.winner_runs.isnull()).sum()\n",
    "labels=[\"Wins\",\"Loss\"]\n",
    "total=float(no_of_wins+no_of_loss)\n",
    "sizes=[(no_of_wins/total)*100,(no_of_loss/total)*100]\n",
    "colors=[\"gold\",'lightskyblue']\n",
    "plt.pie(sizes,labels=labels,colors=colors,autopct=\"%1.1f%%\",shadow=True, startangle=90)\n",
    "plt.title(\"Win percentage batting second\")\n",
    "plt.show()"
   ]
  },
  {
   "cell_type": "markdown",
   "id": "db18065c",
   "metadata": {},
   "source": [
    "The win percentage of teams batting second is higher than teams batting first "
   ]
  },
  {
   "cell_type": "markdown",
   "id": "62c00744",
   "metadata": {},
   "source": [
    "#### The number of wins wrt to each team after batting first"
   ]
  },
  {
   "cell_type": "code",
   "execution_count": 17,
   "id": "50c93c35",
   "metadata": {},
   "outputs": [],
   "source": [
    "batting_first_wins=data[data.winner_runs.notnull()]"
   ]
  },
  {
   "cell_type": "code",
   "execution_count": 18,
   "id": "0a8b2799",
   "metadata": {},
   "outputs": [
    {
     "data": {
      "text/plain": [
       "Chennai Super Kings            6\n",
       "Lucknow Super Giants           5\n",
       "Royal Challengers Bangalore    5\n",
       "Gujarat Titans                 5\n",
       "Punjab Kings                   4\n",
       "Rajasthan Royals               4\n",
       "Kolkata Knight Riders          3\n",
       "Mumbai Indians                 3\n",
       "Delhi Capitals                 3\n",
       "Sunrisers Hyderabad            2\n",
       "Name: winner, dtype: int64"
      ]
     },
     "execution_count": 18,
     "metadata": {},
     "output_type": "execute_result"
    }
   ],
   "source": [
    "batting_first_wins.winner.value_counts()"
   ]
  },
  {
   "cell_type": "code",
   "execution_count": 19,
   "id": "8c1f14a2",
   "metadata": {},
   "outputs": [
    {
     "data": {
      "image/png": "[encoded data removed]",
      "text/plain": [
       "<Figure size 864x432 with 1 Axes>"
      ]
     },
     "metadata": {
      "needs_background": "light"
     },
     "output_type": "display_data"
    }
   ],
   "source": [
    "# Plot the number of wins wrt to each team after batting first\n",
    "plt.figure(figsize=(12,6))\n",
    "batting_first_wins.winner.value_counts().plot(kind=\"barh\")\n",
    "plt.title(\"The number of wins wrt to each team after batting first\")\n",
    "plt.show()"
   ]
  },
  {
   "cell_type": "markdown",
   "id": "7d051202",
   "metadata": {},
   "source": [
    "Chennai Super Kings has won the maximum number of matches on batting first"
   ]
  },
  {
   "cell_type": "markdown",
   "id": "253bd6a5",
   "metadata": {},
   "source": [
    "#### The number of wins wrt to each team after fielding first"
   ]
  },
  {
   "cell_type": "code",
   "execution_count": 20,
   "id": "71762c97",
   "metadata": {},
   "outputs": [],
   "source": [
    "fielding_first_wins=data[data.winner_wickets.notnull()]"
   ]
  },
  {
   "cell_type": "code",
   "execution_count": 21,
   "id": "dc3c47cb",
   "metadata": {},
   "outputs": [
    {
     "data": {
      "text/plain": [
       "Gujarat Titans                 6\n",
       "Mumbai Indians                 6\n",
       "Chennai Super Kings            4\n",
       "Lucknow Super Giants           3\n",
       "Kolkata Knight Riders          3\n",
       "Rajasthan Royals               3\n",
       "Royal Challengers Bangalore    2\n",
       "Sunrisers Hyderabad            2\n",
       "Punjab Kings                   2\n",
       "Delhi Capitals                 2\n",
       "Name: winner, dtype: int64"
      ]
     },
     "execution_count": 21,
     "metadata": {},
     "output_type": "execute_result"
    }
   ],
   "source": [
    "fielding_first_wins.winner.value_counts()"
   ]
  },
  {
   "cell_type": "code",
   "execution_count": 22,
   "id": "75e22122",
   "metadata": {},
   "outputs": [
    {
     "data": {
      "image/png": "[encoded data removed]",
      "text/plain": [
       "<Figure size 864x432 with 1 Axes>"
      ]
     },
     "metadata": {
      "needs_background": "light"
     },
     "output_type": "display_data"
    }
   ],
   "source": [
    "# Plot the number of wins wrt to each team after fielding first\n",
    "plt.figure(figsize=(12,6))\n",
    "fielding_first_wins.winner.value_counts().plot(kind=\"barh\",colormap=\"RdBu\")\n",
    "plt.title(\"Number of wins per team by fielding first\")\n",
    "plt.show()"
   ]
  },
  {
   "cell_type": "markdown",
   "id": "e35a5ff2",
   "metadata": {},
   "source": [
    "Gujarat Titans has won the maximum number of matches on fielding first"
   ]
  },
  {
   "cell_type": "markdown",
   "id": "3672ed6a",
   "metadata": {},
   "source": [
    "#### The number of matches played city wise"
   ]
  },
  {
   "cell_type": "code",
   "execution_count": 23,
   "id": "cdb70d34",
   "metadata": {},
   "outputs": [
    {
     "data": {
      "text/plain": [
       "Ahmedabad     9\n",
       "Chennai       9\n",
       "Lucknow       7\n",
       "Hyderabad     7\n",
       "Bengaluru     7\n",
       "Delhi         7\n",
       "Kolkata       7\n",
       "Mumbai        7\n",
       "Chandigarh    5\n",
       "Jaipur        5\n",
       "Guwahati      2\n",
       "Dharamsala    2\n",
       "Name: location, dtype: int64"
      ]
     },
     "execution_count": 23,
     "metadata": {},
     "output_type": "execute_result"
    }
   ],
   "source": [
    "data.location.value_counts()"
   ]
  },
  {
   "cell_type": "code",
   "execution_count": 24,
   "id": "4de68865",
   "metadata": {},
   "outputs": [
    {
     "data": {
      "image/png": "[encoded data removed]",
      "text/plain": [
       "<Figure size 864x576 with 1 Axes>"
      ]
     },
     "metadata": {
      "needs_background": "light"
     },
     "output_type": "display_data"
    }
   ],
   "source": [
    "# Plot the number of matches played city wise \n",
    "plt.figure(figsize=(12,8))\n",
    "sns.countplot(y=\"location\", data=data, order = data.location.value_counts().index)\n",
    "plt.title(\"Number of matches played city wise\")\n",
    "plt.show()"
   ]
  },
  {
   "cell_type": "markdown",
   "id": "41a4682e",
   "metadata": {},
   "source": [
    "Maximum matches were played in Ahmedabad and Chennai"
   ]
  },
  {
   "cell_type": "markdown",
   "id": "cfe0b65c",
   "metadata": {},
   "source": [
    "#### The number of matches played stadium wise"
   ]
  },
  {
   "cell_type": "code",
   "execution_count": 25,
   "id": "34f25742",
   "metadata": {},
   "outputs": [
    {
     "data": {
      "text/plain": [
       "Narendra Modi Stadium                                           9\n",
       "MA Chidambaram Stadium                                          9\n",
       "Bharat Ratna Shri Atal Bihari Vajpayee Ekana Cricket Stadium    7\n",
       "Rajiv Gandhi International Stadium                              7\n",
       "M Chinnaswamy Stadium                                           7\n",
       "Arun Jaitley Stadium                                            7\n",
       "Eden Gardens                                                    7\n",
       "Wankhede Stadium                                                7\n",
       "Punjab Cricket Association IS Bindra Stadium                    5\n",
       "Sawai Mansingh Stadium                                          5\n",
       "Barsapara Cricket Stadium                                       2\n",
       "Himachal Pradesh Cricket Association Stadium                    2\n",
       "Name: venue, dtype: int64"
      ]
     },
     "execution_count": 25,
     "metadata": {},
     "output_type": "execute_result"
    }
   ],
   "source": [
    "data.venue.value_counts()"
   ]
  },
  {
   "cell_type": "code",
   "execution_count": 26,
   "id": "0ee4b729",
   "metadata": {},
   "outputs": [
    {
     "data": {
      "image/png": "[encoded data removed]",
      "text/plain": [
       "<Figure size 864x576 with 1 Axes>"
      ]
     },
     "metadata": {
      "needs_background": "light"
     },
     "output_type": "display_data"
    }
   ],
   "source": [
    "# Plot the number of matches by venue\n",
    "plt.figure(figsize=(12,8))\n",
    "sns.countplot(y=\"venue\", data=data, order =data.venue.value_counts().index)\n",
    "plt.title(\"Number of matches by venue\")\n",
    "plt.show()"
   ]
  },
  {
   "cell_type": "markdown",
   "id": "c5603cf5",
   "metadata": {},
   "source": [
    "Maximum matches were played in Narendra Modi Statium and MA Chidambaram Stadium"
   ]
  },
  {
   "cell_type": "markdown",
   "id": "71e5ff74",
   "metadata": {},
   "source": [
    "#### umpire1 match wise"
   ]
  },
  {
   "cell_type": "code",
   "execution_count": 27,
   "id": "34d64a8f",
   "metadata": {},
   "outputs": [
    {
     "data": {
      "text/plain": [
       "Nitin Menon              11\n",
       "AK Chaudhary             10\n",
       "KN Ananthapadmanabhan     9\n",
       "BNJ Oxenford              6\n",
       "A Totre                   6\n",
       "J Madanagopal             6\n",
       "CB Gaffaney               6\n",
       "MA Gough                  5\n",
       "HAS Khalid                4\n",
       "Vinod Seshan              3\n",
       "RJ Tucker                 3\n",
       "A Nand Kishore            2\n",
       "Navdeep Singh             1\n",
       "NA Patwardhan             1\n",
       "Tapan Sharma              1\n",
       "Name: umpire1, dtype: int64"
      ]
     },
     "execution_count": 27,
     "metadata": {},
     "output_type": "execute_result"
    }
   ],
   "source": [
    "data.umpire1.value_counts()"
   ]
  },
  {
   "cell_type": "code",
   "execution_count": 28,
   "id": "83fe3fc0",
   "metadata": {},
   "outputs": [
    {
     "data": {
      "image/png": "[encoded data removed]",
      "text/plain": [
       "<Figure size 864x360 with 1 Axes>"
      ]
     },
     "metadata": {
      "needs_background": "light"
     },
     "output_type": "display_data"
    }
   ],
   "source": [
    "# Top 5 umpire1 match wise\n",
    "plt.figure(figsize=(12,5))\n",
    "sns.countplot(y=\"umpire1\", data=data, order =data.umpire1.value_counts()[:5].index)\n",
    "plt.title(\"Top 5 umpire1 match wise\" )\n",
    "plt.show()"
   ]
  },
  {
   "cell_type": "markdown",
   "id": "8abc14c6",
   "metadata": {},
   "source": [
    "#### umpire2 match wise"
   ]
  },
  {
   "cell_type": "code",
   "execution_count": 29,
   "id": "1103b110",
   "metadata": {},
   "outputs": [
    {
     "data": {
      "text/plain": [
       "VK Sharma               10\n",
       "RJ Tucker                7\n",
       "NA Patwardhan            6\n",
       "GR Sadashiv Iyer         6\n",
       "MV Saidharshan Kumar     6\n",
       "R Pandit                 5\n",
       "YC Barde                 5\n",
       "UV Gandhe                5\n",
       "Vinod Seshan             4\n",
       "Tapan Sharma             4\n",
       "A Nand Kishore           4\n",
       "Navdeep Singh            4\n",
       "J Madanagopal            3\n",
       "CB Gaffaney              2\n",
       "HAS Khalid               1\n",
       "BNJ Oxenford             1\n",
       "MA Gough                 1\n",
       "Name: umpire2, dtype: int64"
      ]
     },
     "execution_count": 29,
     "metadata": {},
     "output_type": "execute_result"
    }
   ],
   "source": [
    "data.umpire2.value_counts()"
   ]
  },
  {
   "cell_type": "code",
   "execution_count": 30,
   "id": "6aa340e3",
   "metadata": {},
   "outputs": [
    {
     "data": {
      "image/png": "[encoded data removed]",
      "text/plain": [
       "<Figure size 864x360 with 1 Axes>"
      ]
     },
     "metadata": {
      "needs_background": "light"
     },
     "output_type": "display_data"
    }
   ],
   "source": [
    "# Top 5 umpire2 match wise\n",
    "plt.figure(figsize=(12,5))\n",
    "sns.countplot(y=\"umpire2\", data=data, order =data.umpire2.value_counts()[:5].index)\n",
    "plt.title(\"Top 5 umpire2 match wise\" )\n",
    "plt.show()"
   ]
  },
  {
   "cell_type": "markdown",
   "id": "c643b58d",
   "metadata": {},
   "source": [
    "Nitin Melon and Vk sharma where umpires in most of the matches."
   ]
  },
  {
   "cell_type": "markdown",
   "id": "dfa27a8a",
   "metadata": {},
   "source": [
    "#### Referee match wise"
   ]
  },
  {
   "cell_type": "code",
   "execution_count": 31,
   "id": "a04b5a7c",
   "metadata": {},
   "outputs": [
    {
     "data": {
      "text/plain": [
       "J Srinath          12\n",
       "M Nayyar           10\n",
       "V Narayan Kutty    10\n",
       "Shakti Singh        6\n",
       "Prakash Bhatt       6\n",
       "DS Manohar          5\n",
       "R Seth              5\n",
       "Amit Sharma         5\n",
       "P Dharmani          5\n",
       "Sanjay Verma        4\n",
       "SA Satbhai          2\n",
       "SS Raul             2\n",
       "RS Sodhi            2\n",
       "Name: match_referee, dtype: int64"
      ]
     },
     "execution_count": 31,
     "metadata": {},
     "output_type": "execute_result"
    }
   ],
   "source": [
    "data.match_referee.value_counts()"
   ]
  },
  {
   "cell_type": "code",
   "execution_count": 32,
   "id": "b645a199",
   "metadata": {},
   "outputs": [
    {
     "data": {
      "image/png": "[encoded data removed]",
      "text/plain": [
       "<Figure size 864x360 with 1 Axes>"
      ]
     },
     "metadata": {
      "needs_background": "light"
     },
     "output_type": "display_data"
    }
   ],
   "source": [
    "# Top 5 referee match wise\n",
    "plt.figure(figsize=(12,5))\n",
    "sns.countplot(y=\"match_referee\", data=data, order =data.match_referee.value_counts()[:5].index)\n",
    "plt.title(\"Top 5 referee match wise\" )\n",
    "plt.show()"
   ]
  },
  {
   "cell_type": "markdown",
   "id": "82b3c327",
   "metadata": {},
   "source": [
    "J Srinath was the refree in most of the matches"
   ]
  },
  {
   "cell_type": "markdown",
   "id": "39654cad",
   "metadata": {},
   "source": [
    "#### Reserve umpire match wise"
   ]
  },
  {
   "cell_type": "code",
   "execution_count": 33,
   "id": "c09c1f10",
   "metadata": {},
   "outputs": [
    {
     "data": {
      "text/plain": [
       "A Bengeri                9\n",
       "PM Joshi                 9\n",
       "Abhijit Bhattacharya     9\n",
       "M Krishnadas             9\n",
       "VM Dhokre                9\n",
       "P Joshi                  9\n",
       "M Kuppuraj               8\n",
       "Mohamad Rafi             8\n",
       "VK Sharma                1\n",
       "AK Chaudhary             1\n",
       "KN Ananthapadmanabhan    1\n",
       "J Madanagopal            1\n",
       "Name: reserve_umpire, dtype: int64"
      ]
     },
     "execution_count": 33,
     "metadata": {},
     "output_type": "execute_result"
    }
   ],
   "source": [
    "data.reserve_umpire.value_counts()"
   ]
  },
  {
   "cell_type": "code",
   "execution_count": 34,
   "id": "8505caf1",
   "metadata": {},
   "outputs": [
    {
     "data": {
      "image/png": "[encoded data removed]",
      "text/plain": [
       "<Figure size 864x360 with 1 Axes>"
      ]
     },
     "metadata": {
      "needs_background": "light"
     },
     "output_type": "display_data"
    }
   ],
   "source": [
    "# Top 5 reserve umpire match wise\n",
    "plt.figure(figsize=(12,5))\n",
    "sns.countplot(y=\"reserve_umpire\", data=data, order =data.reserve_umpire.value_counts()[:5].index)\n",
    "plt.title(\"Top 5 reserve umpire match wise\" )\n",
    "plt.show()"
   ]
  },
  {
   "cell_type": "markdown",
   "id": "d0b9241a",
   "metadata": {},
   "source": [
    "#### The Team who won the title this year"
   ]
  },
  {
   "cell_type": "code",
   "execution_count": 35,
   "id": "3c3a8003",
   "metadata": {},
   "outputs": [
    {
     "data": {
      "text/plain": [
       "74"
      ]
     },
     "execution_count": 35,
     "metadata": {},
     "output_type": "execute_result"
    }
   ],
   "source": [
    "data.match_number.max()"
   ]
  },
  {
   "cell_type": "markdown",
   "id": "ffbabae6",
   "metadata": {},
   "source": [
    "#### The last match (74th match) was won by Chennai superkings. Hence chennai superkings won the ipl 2023 title "
   ]
  }
 ],
 "metadata": {
  "kernelspec": {
   "display_name": "Python 3 (ipykernel)",
   "language": "python",
   "name": "python3"
  },
  "language_info": {
   "codemirror_mode": {
    "name": "ipython",
    "version": 3
   },
   "file_extension": ".py",
   "mimetype": "text/x-python",
   "name": "python",
   "nbconvert_exporter": "python",
   "pygments_lexer": "ipython3",
   "version": "3.9.12"
  }
 },
 "nbformat": 4,
 "nbformat_minor": 5
}
